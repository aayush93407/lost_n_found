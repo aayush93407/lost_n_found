{
 "cells": [
  {
   "cell_type": "code",
   "execution_count": null,
   "metadata": {},
   "outputs": [
    {
     "name": "stderr",
     "output_type": "stream",
     "text": [
      "C:\\Users\\AAYUSH THE GREAT\\AppData\\Roaming\\Python\\Python312\\site-packages\\torchvision\\models\\_utils.py:208: UserWarning: The parameter 'pretrained' is deprecated since 0.13 and may be removed in the future, please use 'weights' instead.\n",
      "  warnings.warn(\n",
      "C:\\Users\\AAYUSH THE GREAT\\AppData\\Roaming\\Python\\Python312\\site-packages\\torchvision\\models\\_utils.py:223: UserWarning: Arguments other than a weight enum or `None` for 'weights' are deprecated since 0.13 and may be removed in the future. The current behavior is equivalent to passing `weights=ResNet50_Weights.IMAGENET1K_V1`. You can also use `weights=ResNet50_Weights.DEFAULT` to get the most up-to-date weights.\n",
      "  warnings.warn(msg)\n"
     ]
    },
    {
     "name": "stdout",
     "output_type": "stream",
     "text": [
      "\n",
      "Best Match Found:\n",
      "\n",
      "Item Name      : Watch\n",
      "Description    : Silver Rolex watch with a blue dial\n",
      "Location       : 5th Avenue\n",
      "Owner Contact  : owner5@example.com\n"
     ]
    }
   ],
   "source": [
    "import torch\n",
    "import torchvision.transforms as transforms\n",
    "from torchvision import models\n",
    "from PIL import Image\n",
    "import pandas as pd\n",
    "import numpy as np\n",
    "import os\n",
    "from sklearn.metrics.pairwise import cosine_similarity\n",
    "\n",
    "resnet = models.resnet50(pretrained=True)\n",
    "resnet = torch.nn.Sequential(*list(resnet.children())[:-1]) \n",
    "resnet.eval()\n",
    "\n",
    "\n",
    "def preprocess_image(image_path):\n",
    "    transform = transforms.Compose([\n",
    "        transforms.Resize((224, 224)),\n",
    "        transforms.ToTensor(),\n",
    "        transforms.Normalize(mean=[0.485, 0.456, 0.406], std=[0.229, 0.224, 0.225])\n",
    "    ])\n",
    "    image = Image.open(image_path).convert(\"RGB\")\n",
    "    return transform(image).unsqueeze(0)  \n",
    "\n",
    "\n",
    "def extract_features(image_path):\n",
    "    image_tensor = preprocess_image(image_path)\n",
    "    with torch.no_grad():\n",
    "        features = resnet(image_tensor)\n",
    "    return features.squeeze().numpy().flatten()\n",
    "\n",
    "csv_path = \"lost_items_dataset.csv\"  \n",
    "df = pd.read_csv(csv_path)\n",
    "\n",
    "df['features'] = df['image_path'].apply(lambda x: extract_features(x) if os.path.exists(x) else None)\n",
    "df.dropna(inplace=True)\n",
    "\n",
    "def find_best_match(found_image_path):\n",
    "    found_features = extract_features(found_image_path)\n",
    "    stored_features = np.stack(df['features'].values)\n",
    "    similarities = cosine_similarity([found_features], stored_features)\n",
    "    best_match_idx = np.argmax(similarities)\n",
    "    return df.iloc[best_match_idx]\n",
    "\n",
    "found_item_path = \"test_image.jpg\"  \n",
    "best_match = find_best_match(found_item_path)\n",
    "\n",
    "print(\"\\nBest Match Found:\\n\")\n",
    "print(f\"Item Name      : {best_match['item_name']}\")\n",
    "print(f\"Description    : {best_match['description']}\")\n",
    "print(f\"Location       : {best_match['location']}\")\n",
    "print(f\"Owner Contact  : {best_match['owner_contact']}\")\n"
   ]
  },
  {
   "cell_type": "code",
   "execution_count": 1,
   "metadata": {},
   "outputs": [
    {
     "name": "stdout",
     "output_type": "stream",
     "text": [
      "Cleaned CSV saved as cleaned_lost_items_dataset.csv\n"
     ]
    },
    {
     "name": "stderr",
     "output_type": "stream",
     "text": [
      "C:\\Users\\AAYUSH THE GREAT\\AppData\\Local\\Temp\\ipykernel_3596\\157525900.py:11: FutureWarning: DataFrame.applymap has been deprecated. Use DataFrame.map instead.\n",
      "  df = df.applymap(lambda x: x.strip() if isinstance(x, str) else x)\n"
     ]
    }
   ],
   "source": [
    "import pandas as pd\n",
    "\n",
    "# Load the CSV file\n",
    "csv_path = \"lost_items_dataset.csv\"\n",
    "df = pd.read_csv(csv_path)\n",
    "\n",
    "# Strip spaces from column names\n",
    "df.columns = df.columns.str.strip()\n",
    "\n",
    "# Strip spaces from all string values in the DataFrame\n",
    "df = df.applymap(lambda x: x.strip() if isinstance(x, str) else x)\n",
    "\n",
    "# Save the cleaned CSV file\n",
    "cleaned_csv_path = \"cleaned_lost_items_dataset.csv\"\n",
    "df.to_csv(cleaned_csv_path, index=False)\n",
    "\n",
    "print(f\"Cleaned CSV saved as {cleaned_csv_path}\")\n"
   ]
  }
 ],
 "metadata": {
  "kernelspec": {
   "display_name": "Python 3",
   "language": "python",
   "name": "python3"
  },
  "language_info": {
   "codemirror_mode": {
    "name": "ipython",
    "version": 3
   },
   "file_extension": ".py",
   "mimetype": "text/x-python",
   "name": "python",
   "nbconvert_exporter": "python",
   "pygments_lexer": "ipython3",
   "version": "3.12.6"
  }
 },
 "nbformat": 4,
 "nbformat_minor": 2
}
